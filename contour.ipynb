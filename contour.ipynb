{
 "cells": [
  {
   "cell_type": "code",
   "execution_count": null,
   "metadata": {},
   "outputs": [],
   "source": [
    "def cannyCon(img):\n",
    "    \n",
    "    hsv = cv2.cvtColor(img, cv2.COLOR_BGR2HSV)\n",
    "    blueLow = np.array([80,43,46])\n",
    "    blueHigh = np.array([100,255,255])\n",
    "    mask = cv2.inRange(hsv, blueLow, blueHigh)\n",
    "#     plt.imshow(mask)\n",
    "#     print(mask.shape)\n",
    "    canny = cv2.Canny(mask, 30, 220)\n",
    "    canny = canny.astype(np.uint8)\n",
    "#     print(canny.shape)\n",
    "#     plt.imshow(canny)\n",
    "    return canny"
   ]
  },
  {
   "cell_type": "code",
   "execution_count": null,
   "metadata": {},
   "outputs": [],
   "source": [
    "# https://blog.csdn.net/u011599639/article/details/96861600\n",
    "\n",
    "cap = cv2.VideoCapture(\"E47_H2_BS_FINISH.mp4\")\n",
    "fourcc = cv2.VideoWriter_fourcc(*'MJPG')\n",
    "width = int(cap.get(cv2.CAP_PROP_FRAME_WIDTH))\n",
    "height = int(cap.get(cv2.CAP_PROP_FRAME_HEIGHT))\n",
    "print(\"width:\",width, \"height:\", height)\n",
    "\n",
    "out = cv2.VideoWriter('output.avi', fourcc, 20.0, (width, height))\n",
    "\n",
    "while (cap.isOpened()):\n",
    "  ret, frame = cap.read()\n",
    "  if ret == True:\n",
    "#     frame = cv2.flip(frame, 0)\n",
    "    frame = cannyCon(frame)\n",
    "    out.write(frame)\n",
    "    cv2.imshow('frame', frame)\n",
    "    if cv2.waitKey(1) & 0xFF == ord('q'):\n",
    "      break\n",
    "  else:\n",
    "    break\n",
    "    \n",
    "cap.release()\n",
    "out.release()\n",
    "cv2.destroyAllWindows()"
   ]
  }
 ],
 "metadata": {
  "kernelspec": {
   "display_name": "Python 3",
   "language": "python",
   "name": "python3"
  },
  "language_info": {
   "codemirror_mode": {
    "name": "ipython",
    "version": 3
   },
   "file_extension": ".py",
   "mimetype": "text/x-python",
   "name": "python",
   "nbconvert_exporter": "python",
   "pygments_lexer": "ipython3",
   "version": "3.8.5"
  }
 },
 "nbformat": 4,
 "nbformat_minor": 4
}
